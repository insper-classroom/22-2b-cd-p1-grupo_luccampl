{
 "cells": [
  {
   "cell_type": "markdown",
   "metadata": {},
   "source": [
    "# Projeto 1 - Ciência dos Dados"
   ]
  },
  {
   "cell_type": "markdown",
   "metadata": {},
   "source": [
    "Nome: Lucca Martins Pereira Lima\n",
    "\n",
    "Nome: Christian Delfs\n",
    "\n",
    "Nome: Vitor de Moraes Caixeta"
   ]
  },
  {
   "cell_type": "markdown",
   "metadata": {},
   "source": [
    "Atenção: Serão permitidos grupos de três pessoas, mas com uma rubrica mais exigente. Grupos deste tamanho precisarão fazer um questionário de avaliação de trabalho em equipe"
   ]
  },
  {
   "cell_type": "markdown",
   "metadata": {},
   "source": [
    "___\n",
    "Carregando algumas bibliotecas:"
   ]
  },
  {
   "cell_type": "code",
   "execution_count": 7,
   "metadata": {},
   "outputs": [],
   "source": [
    "%matplotlib inline\n",
    "import pandas as pd\n",
    "import matplotlib.pyplot as plt\n",
    "import numpy as np\n",
    "import os"
   ]
  },
  {
   "cell_type": "code",
   "execution_count": 8,
   "metadata": {
    "scrolled": false
   },
   "outputs": [
    {
     "name": "stdout",
     "output_type": "stream",
     "text": [
      "Esperamos trabalhar no diretório\n",
      "C:\\Users\\lucca\\Documents\\2º SEMESTRE LINHA\\CDADOS\\Projetos\\PROJETO 1\\22-2b-cd-p1-grupo_luccampl\\notebooks\n"
     ]
    }
   ],
   "source": [
    "print('Esperamos trabalhar no diretório')\n",
    "print(os.getcwd())"
   ]
  },
  {
   "cell_type": "markdown",
   "metadata": {},
   "source": [
    "Carregando a base de dados com as notícias classificadas manualmente:"
   ]
  },
  {
   "cell_type": "code",
   "execution_count": 9,
   "metadata": {},
   "outputs": [],
   "source": [
    "filename = 'dados.xlsx'"
   ]
  },
  {
   "cell_type": "code",
   "execution_count": 10,
   "metadata": {},
   "outputs": [
    {
     "data": {
      "text/html": [
       "<div>\n",
       "<style scoped>\n",
       "    .dataframe tbody tr th:only-of-type {\n",
       "        vertical-align: middle;\n",
       "    }\n",
       "\n",
       "    .dataframe tbody tr th {\n",
       "        vertical-align: top;\n",
       "    }\n",
       "\n",
       "    .dataframe thead th {\n",
       "        text-align: right;\n",
       "    }\n",
       "</style>\n",
       "<table border=\"1\" class=\"dataframe\">\n",
       "  <thead>\n",
       "    <tr style=\"text-align: right;\">\n",
       "      <th></th>\n",
       "      <th>Categoria</th>\n",
       "      <th>Titulo</th>\n",
       "      <th>Descrição</th>\n",
       "      <th>Data</th>\n",
       "      <th>Pagina</th>\n",
       "      <th>Target</th>\n",
       "    </tr>\n",
       "  </thead>\n",
       "  <tbody>\n",
       "    <tr>\n",
       "      <th>0</th>\n",
       "      <td>tecnologia</td>\n",
       "      <td>Pesquisadores encontram fóssil do maior inseto...</td>\n",
       "      <td>Paleontologistas ingleses descobriram o fóssil...</td>\n",
       "      <td>25/12/2021 16:51</td>\n",
       "      <td>66.0</td>\n",
       "      <td>2.0</td>\n",
       "    </tr>\n",
       "    <tr>\n",
       "      <th>1</th>\n",
       "      <td>tecnologia</td>\n",
       "      <td>WhatsApp define “head” no Brasil de olho em el...</td>\n",
       "      <td>O WhatsApp anunciou em março que o Brasil seri...</td>\n",
       "      <td>04/04/2022 17:39</td>\n",
       "      <td>37.0</td>\n",
       "      <td>1.0</td>\n",
       "    </tr>\n",
       "    <tr>\n",
       "      <th>2</th>\n",
       "      <td>tecnologia</td>\n",
       "      <td>Os tropeços da vacina Sputnik V na América Latina</td>\n",
       "      <td>A Sputnik V foi a primeira vacina contra a cov...</td>\n",
       "      <td>04/08/2021 17:03</td>\n",
       "      <td>121.0</td>\n",
       "      <td>0.0</td>\n",
       "    </tr>\n",
       "    <tr>\n",
       "      <th>3</th>\n",
       "      <td>tecnologia</td>\n",
       "      <td>Variante britânica do coronavírus aponta uma m...</td>\n",
       "      <td>A variante britânica do coronavírus, considera...</td>\n",
       "      <td>22/01/2021 14:08</td>\n",
       "      <td>238.0</td>\n",
       "      <td>0.0</td>\n",
       "    </tr>\n",
       "    <tr>\n",
       "      <th>4</th>\n",
       "      <td>tecnologia</td>\n",
       "      <td>Vacinação contra a covid-19 na Venezuela: espe...</td>\n",
       "      <td>Yaritza de Velázquez se preparava para visitar...</td>\n",
       "      <td>05/05/2021 17:07</td>\n",
       "      <td>169.0</td>\n",
       "      <td>0.0</td>\n",
       "    </tr>\n",
       "  </tbody>\n",
       "</table>\n",
       "</div>"
      ],
      "text/plain": [
       "    Categoria                                             Titulo  \\\n",
       "0  tecnologia  Pesquisadores encontram fóssil do maior inseto...   \n",
       "1  tecnologia  WhatsApp define “head” no Brasil de olho em el...   \n",
       "2  tecnologia  Os tropeços da vacina Sputnik V na América Latina   \n",
       "3  tecnologia  Variante britânica do coronavírus aponta uma m...   \n",
       "4  tecnologia  Vacinação contra a covid-19 na Venezuela: espe...   \n",
       "\n",
       "                                           Descrição              Data  \\\n",
       "0  Paleontologistas ingleses descobriram o fóssil...  25/12/2021 16:51   \n",
       "1  O WhatsApp anunciou em março que o Brasil seri...  04/04/2022 17:39   \n",
       "2  A Sputnik V foi a primeira vacina contra a cov...  04/08/2021 17:03   \n",
       "3  A variante britânica do coronavírus, considera...  22/01/2021 14:08   \n",
       "4  Yaritza de Velázquez se preparava para visitar...  05/05/2021 17:07   \n",
       "\n",
       "   Pagina  Target  \n",
       "0    66.0     2.0  \n",
       "1    37.0     1.0  \n",
       "2   121.0     0.0  \n",
       "3   238.0     0.0  \n",
       "4   169.0     0.0  "
      ]
     },
     "execution_count": 10,
     "metadata": {},
     "output_type": "execute_result"
    }
   ],
   "source": [
    "train = pd.read_excel(filename, sheet_name = 'Treinamento')\n",
    "train.head(5)"
   ]
  },
  {
   "cell_type": "code",
   "execution_count": 11,
   "metadata": {},
   "outputs": [
    {
     "data": {
      "text/html": [
       "<div>\n",
       "<style scoped>\n",
       "    .dataframe tbody tr th:only-of-type {\n",
       "        vertical-align: middle;\n",
       "    }\n",
       "\n",
       "    .dataframe tbody tr th {\n",
       "        vertical-align: top;\n",
       "    }\n",
       "\n",
       "    .dataframe thead th {\n",
       "        text-align: right;\n",
       "    }\n",
       "</style>\n",
       "<table border=\"1\" class=\"dataframe\">\n",
       "  <thead>\n",
       "    <tr style=\"text-align: right;\">\n",
       "      <th></th>\n",
       "      <th>Categoria</th>\n",
       "      <th>Titulo</th>\n",
       "      <th>Descrição</th>\n",
       "      <th>Data</th>\n",
       "      <th>Pagina</th>\n",
       "      <th>Target</th>\n",
       "    </tr>\n",
       "  </thead>\n",
       "  <tbody>\n",
       "    <tr>\n",
       "      <th>0</th>\n",
       "      <td>tecnologia</td>\n",
       "      <td>Eclipse lunar ‘quase total’ na próxima noite s...</td>\n",
       "      <td>A América do Norte e grande parte da América d...</td>\n",
       "      <td>18/11/2021 23:00</td>\n",
       "      <td>80</td>\n",
       "      <td>2</td>\n",
       "    </tr>\n",
       "    <tr>\n",
       "      <th>1</th>\n",
       "      <td>tecnologia</td>\n",
       "      <td>Pandemia vai acabar em 1 ano, diz CEO da farma...</td>\n",
       "      <td>O CEO da Moderna, Stéphane Bancel, declarou qu...</td>\n",
       "      <td>24/09/2021 12:06</td>\n",
       "      <td>99</td>\n",
       "      <td>0</td>\n",
       "    </tr>\n",
       "    <tr>\n",
       "      <th>2</th>\n",
       "      <td>tecnologia</td>\n",
       "      <td>Moderna acredita que sua dose de reforço funci...</td>\n",
       "      <td>A farmacêutica americana Moderna disse nesta s...</td>\n",
       "      <td>21/12/2021 03:35</td>\n",
       "      <td>68</td>\n",
       "      <td>0</td>\n",
       "    </tr>\n",
       "    <tr>\n",
       "      <th>3</th>\n",
       "      <td>tecnologia</td>\n",
       "      <td>Mais alto e por mais tempo: helicóptero Ingenu...</td>\n",
       "      <td>Ingenuity, o pequeno helicóptero da NASA, cons...</td>\n",
       "      <td>22/04/2021 15:01</td>\n",
       "      <td>177</td>\n",
       "      <td>1</td>\n",
       "    </tr>\n",
       "    <tr>\n",
       "      <th>4</th>\n",
       "      <td>tecnologia</td>\n",
       "      <td>Argentina pede que vacinas contra a covid-19 s...</td>\n",
       "      <td>O presidente da Argentina, Alberto Fernández, ...</td>\n",
       "      <td>28/01/2021 19:25</td>\n",
       "      <td>233</td>\n",
       "      <td>0</td>\n",
       "    </tr>\n",
       "  </tbody>\n",
       "</table>\n",
       "</div>"
      ],
      "text/plain": [
       "    Categoria                                             Titulo  \\\n",
       "0  tecnologia  Eclipse lunar ‘quase total’ na próxima noite s...   \n",
       "1  tecnologia  Pandemia vai acabar em 1 ano, diz CEO da farma...   \n",
       "2  tecnologia  Moderna acredita que sua dose de reforço funci...   \n",
       "3  tecnologia  Mais alto e por mais tempo: helicóptero Ingenu...   \n",
       "4  tecnologia  Argentina pede que vacinas contra a covid-19 s...   \n",
       "\n",
       "                                           Descrição              Data  \\\n",
       "0  A América do Norte e grande parte da América d...  18/11/2021 23:00   \n",
       "1  O CEO da Moderna, Stéphane Bancel, declarou qu...  24/09/2021 12:06   \n",
       "2  A farmacêutica americana Moderna disse nesta s...  21/12/2021 03:35   \n",
       "3  Ingenuity, o pequeno helicóptero da NASA, cons...  22/04/2021 15:01   \n",
       "4  O presidente da Argentina, Alberto Fernández, ...  28/01/2021 19:25   \n",
       "\n",
       "   Pagina  Target  \n",
       "0      80       2  \n",
       "1      99       0  \n",
       "2      68       0  \n",
       "3     177       1  \n",
       "4     233       0  "
      ]
     },
     "execution_count": 11,
     "metadata": {},
     "output_type": "execute_result"
    }
   ],
   "source": [
    "test = pd.read_excel(filename, sheet_name = 'Teste')\n",
    "test.head(5)"
   ]
  },
  {
   "cell_type": "markdown",
   "metadata": {},
   "source": [
    "___\n",
    "## Classificador automático\n"
   ]
  },
  {
   "cell_type": "markdown",
   "metadata": {},
   "source": [
    "Faça aqui uma descrição do seu assunto e o que considerou como relevante ou não relevante na classificação das notícias (Target).\n",
    "\n",
    "ESCREVA AQUI...\n",
    "\n",
    "Nossa proposta no projeto, se\n",
    "\n",
    "Para o nosso projeto, com o tema de 'Tecnologia', retirado do site 'Isto é Dinheiro', a target escolhida terá como foco associar e classificar qual o tipo da notícia, usando como fatores de classificação: \"notícias relacionadas à saúde\", \"notícias relacionadas ao avanço de tecnologias\" e \"outras\". \n",
    "\n",
    "0 - Notícias relacionadas à saúde\n",
    "\n",
    "1 - Notícias relacionadas ao avanço de tecnologias\n",
    "\n",
    "2 - Notícias que não se relacionam à nenhum dos 2 (outras)"
   ]
  },
  {
   "cell_type": "markdown",
   "metadata": {},
   "source": [
    "___\n",
    "### Montando um Classificador Naive-Bayes\n",
    "\n",
    "Considerando apenas as mensagens da planilha Treinamento, ensine  seu classificador."
   ]
  },
  {
   "cell_type": "code",
   "execution_count": null,
   "metadata": {},
   "outputs": [],
   "source": []
  },
  {
   "cell_type": "code",
   "execution_count": null,
   "metadata": {},
   "outputs": [],
   "source": []
  },
  {
   "cell_type": "code",
   "execution_count": null,
   "metadata": {},
   "outputs": [],
   "source": []
  },
  {
   "cell_type": "markdown",
   "metadata": {},
   "source": [
    "___\n",
    "### Verificando a performance do Classificador\n",
    "\n",
    "Agora você deve testar o seu classificador com a base de Testes."
   ]
  },
  {
   "cell_type": "code",
   "execution_count": null,
   "metadata": {},
   "outputs": [],
   "source": []
  },
  {
   "cell_type": "code",
   "execution_count": null,
   "metadata": {},
   "outputs": [],
   "source": []
  },
  {
   "cell_type": "code",
   "execution_count": null,
   "metadata": {},
   "outputs": [],
   "source": []
  },
  {
   "cell_type": "markdown",
   "metadata": {},
   "source": [
    "___\n",
    "### Concluindo"
   ]
  },
  {
   "cell_type": "code",
   "execution_count": null,
   "metadata": {},
   "outputs": [],
   "source": []
  },
  {
   "cell_type": "code",
   "execution_count": null,
   "metadata": {},
   "outputs": [],
   "source": []
  },
  {
   "cell_type": "code",
   "execution_count": null,
   "metadata": {},
   "outputs": [],
   "source": []
  },
  {
   "cell_type": "markdown",
   "metadata": {},
   "source": [
    "___\n",
    "### Qualidade do Classificador a partir de novas separações das notícias entre Treinamento e Teste\n",
    "\n",
    "Caso for fazer esse item do Projeto"
   ]
  },
  {
   "cell_type": "code",
   "execution_count": null,
   "metadata": {},
   "outputs": [],
   "source": []
  },
  {
   "cell_type": "code",
   "execution_count": null,
   "metadata": {},
   "outputs": [],
   "source": []
  },
  {
   "cell_type": "code",
   "execution_count": null,
   "metadata": {},
   "outputs": [],
   "source": []
  },
  {
   "cell_type": "markdown",
   "metadata": {},
   "source": [
    "___\n",
    "## Aperfeiçoamento:\n",
    "\n",
    "Trabalhos que conseguirem pelo menos conceito B vão evoluir em conceito dependendo da quantidade de itens avançados:\n",
    "\n",
    "* IMPLEMENTOU outras limpezas e transformações que não afetem a qualidade da informação contida nas notícias. Ex: stemming, lemmatization, stopwords\n",
    "* CONSIDEROU mais de duas caterogias na variável Target e INCREMENTOU a quantidade de notícias, mantendo pelo menos 250 notícias por caterogia (OBRIGATÓRIO PARA TRIOS, sem contar como item avançado)\n",
    "* Para Target com duas categorias: CRIOU pelo menos quatro categorias intermediárias de relevância baseadas na probabilidade: ex.: muito relevante, relevante, neutro, irrelevante, muito irrelevante\n",
    "* EXPLICOU porquê não pode usar o próprio classificador para gerar mais amostras de treinamento\n",
    "* PROPÔS diferentes cenários para Naïve Bayes fora do contexto do projeto (pelo menos dois cenários, exceto aqueles já apresentados em sala pelos professores: por exemplo, filtro de spam)\n",
    "* SUGERIU e EXPLICOU melhorias reais com indicações concretas de como implementar (indicar como fazer e indicar material de pesquisa)\n",
    "* FEZ o item Qualidade do Classificador a partir de novas separações das Notícias entre Treinamento e Teste descrito no enunciado do projeto (OBRIGATÓRIO para conceitos A ou A+)"
   ]
  },
  {
   "cell_type": "markdown",
   "metadata": {},
   "source": [
    "___\n",
    "## Referências"
   ]
  },
  {
   "cell_type": "markdown",
   "metadata": {},
   "source": [
    "[Naive Bayes and Text Classification](https://arxiv.org/pdf/1410.5329.pdf)  **Mais completo**\n",
    "\n",
    "[A practical explanation of a Naive Bayes Classifier](https://monkeylearn.com/blog/practical-explanation-naive-bayes-classifier/) **Mais simples**"
   ]
  },
  {
   "cell_type": "code",
   "execution_count": null,
   "metadata": {},
   "outputs": [],
   "source": []
  }
 ],
 "metadata": {
  "kernelspec": {
   "display_name": "Python 3",
   "language": "python",
   "name": "python3"
  }
 },
 "nbformat": 4,
 "nbformat_minor": 4
}
