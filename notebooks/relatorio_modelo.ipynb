{
 "cells": [
  {
   "cell_type": "markdown",
   "metadata": {},
   "source": [
    "# Projeto 1 - Ciência dos Dados"
   ]
  },
  {
   "cell_type": "markdown",
   "metadata": {},
   "source": [
    "Nome: Lucca Martins Pereira Lima\n",
    "\n",
    "Nome: Christian Delfs\n",
    "\n",
    "Nome: Vitor de Moraes Caixeta"
   ]
  },
  {
   "cell_type": "markdown",
   "metadata": {},
   "source": [
    "Atenção: Serão permitidos grupos de três pessoas, mas com uma rubrica mais exigente. Grupos deste tamanho precisarão fazer um questionário de avaliação de trabalho em equipe"
   ]
  },
  {
   "cell_type": "markdown",
   "metadata": {},
   "source": [
    "___\n",
    "Carregando algumas bibliotecas:"
   ]
  },
  {
   "cell_type": "code",
   "execution_count": 8,
   "metadata": {},
   "outputs": [],
   "source": [
    "%matplotlib inline\n",
    "import pandas as pd\n",
    "import matplotlib.pyplot as plt\n",
    "import numpy as np\n",
    "import os"
   ]
  },
  {
   "cell_type": "code",
   "execution_count": 9,
   "metadata": {
    "scrolled": false
   },
   "outputs": [
    {
     "name": "stdout",
     "output_type": "stream",
     "text": [
      "Esperamos trabalhar no diretório\n",
      "c:\\Users\\Vitor Caixeta\\OneDrive\\C_dados DP\\Nova pasta\\22-2b-cd-p1-grupo_luccampl\\notebooks\n"
     ]
    }
   ],
   "source": [
    "print('Esperamos trabalhar no diretório')\n",
    "print(os.getcwd())"
   ]
  },
  {
   "cell_type": "markdown",
   "metadata": {},
   "source": [
    "Carregando a base de dados com as notícias classificadas manualmente:"
   ]
  },
  {
   "cell_type": "code",
   "execution_count": 10,
   "metadata": {},
   "outputs": [],
   "source": [
    "filename = 'dados.xlsx'\n",
    "dados = pd.read_excel(filename)"
   ]
  },
  {
   "cell_type": "code",
   "execution_count": 11,
   "metadata": {},
   "outputs": [
    {
     "data": {
      "text/html": [
       "<div>\n",
       "<style scoped>\n",
       "    .dataframe tbody tr th:only-of-type {\n",
       "        vertical-align: middle;\n",
       "    }\n",
       "\n",
       "    .dataframe tbody tr th {\n",
       "        vertical-align: top;\n",
       "    }\n",
       "\n",
       "    .dataframe thead th {\n",
       "        text-align: right;\n",
       "    }\n",
       "</style>\n",
       "<table border=\"1\" class=\"dataframe\">\n",
       "  <thead>\n",
       "    <tr style=\"text-align: right;\">\n",
       "      <th></th>\n",
       "      <th>Categoria</th>\n",
       "      <th>Titulo</th>\n",
       "      <th>Descrição</th>\n",
       "      <th>Data</th>\n",
       "      <th>Pagina</th>\n",
       "      <th>Target</th>\n",
       "    </tr>\n",
       "  </thead>\n",
       "  <tbody>\n",
       "    <tr>\n",
       "      <th>0</th>\n",
       "      <td>tecnologia</td>\n",
       "      <td>Pesquisadores encontram fóssil do maior inseto...</td>\n",
       "      <td>Paleontologistas ingleses descobriram o fóssil...</td>\n",
       "      <td>25/12/2021 16:51</td>\n",
       "      <td>66.0</td>\n",
       "      <td>2.0</td>\n",
       "    </tr>\n",
       "    <tr>\n",
       "      <th>1</th>\n",
       "      <td>tecnologia</td>\n",
       "      <td>WhatsApp define “head” no Brasil de olho em el...</td>\n",
       "      <td>O WhatsApp anunciou em março que o Brasil seri...</td>\n",
       "      <td>04/04/2022 17:39</td>\n",
       "      <td>37.0</td>\n",
       "      <td>1.0</td>\n",
       "    </tr>\n",
       "    <tr>\n",
       "      <th>2</th>\n",
       "      <td>tecnologia</td>\n",
       "      <td>Os tropeços da vacina Sputnik V na América Latina</td>\n",
       "      <td>A Sputnik V foi a primeira vacina contra a cov...</td>\n",
       "      <td>04/08/2021 17:03</td>\n",
       "      <td>121.0</td>\n",
       "      <td>0.0</td>\n",
       "    </tr>\n",
       "    <tr>\n",
       "      <th>3</th>\n",
       "      <td>tecnologia</td>\n",
       "      <td>Variante britânica do coronavírus aponta uma m...</td>\n",
       "      <td>A variante britânica do coronavírus, considera...</td>\n",
       "      <td>22/01/2021 14:08</td>\n",
       "      <td>238.0</td>\n",
       "      <td>0.0</td>\n",
       "    </tr>\n",
       "    <tr>\n",
       "      <th>4</th>\n",
       "      <td>tecnologia</td>\n",
       "      <td>Vacinação contra a covid-19 na Venezuela: espe...</td>\n",
       "      <td>Yaritza de Velázquez se preparava para visitar...</td>\n",
       "      <td>05/05/2021 17:07</td>\n",
       "      <td>169.0</td>\n",
       "      <td>0.0</td>\n",
       "    </tr>\n",
       "  </tbody>\n",
       "</table>\n",
       "</div>"
      ],
      "text/plain": [
       "    Categoria                                             Titulo  \\\n",
       "0  tecnologia  Pesquisadores encontram fóssil do maior inseto...   \n",
       "1  tecnologia  WhatsApp define “head” no Brasil de olho em el...   \n",
       "2  tecnologia  Os tropeços da vacina Sputnik V na América Latina   \n",
       "3  tecnologia  Variante britânica do coronavírus aponta uma m...   \n",
       "4  tecnologia  Vacinação contra a covid-19 na Venezuela: espe...   \n",
       "\n",
       "                                           Descrição              Data  \\\n",
       "0  Paleontologistas ingleses descobriram o fóssil...  25/12/2021 16:51   \n",
       "1  O WhatsApp anunciou em março que o Brasil seri...  04/04/2022 17:39   \n",
       "2  A Sputnik V foi a primeira vacina contra a cov...  04/08/2021 17:03   \n",
       "3  A variante britânica do coronavírus, considera...  22/01/2021 14:08   \n",
       "4  Yaritza de Velázquez se preparava para visitar...  05/05/2021 17:07   \n",
       "\n",
       "   Pagina  Target  \n",
       "0    66.0     2.0  \n",
       "1    37.0     1.0  \n",
       "2   121.0     0.0  \n",
       "3   238.0     0.0  \n",
       "4   169.0     0.0  "
      ]
     },
     "execution_count": 11,
     "metadata": {},
     "output_type": "execute_result"
    }
   ],
   "source": [
    "train = pd.read_excel(filename, sheet_name = 'Treinamento')\n",
    "train.head(5)"
   ]
  },
  {
   "cell_type": "code",
   "execution_count": 12,
   "metadata": {},
   "outputs": [
    {
     "data": {
      "text/html": [
       "<div>\n",
       "<style scoped>\n",
       "    .dataframe tbody tr th:only-of-type {\n",
       "        vertical-align: middle;\n",
       "    }\n",
       "\n",
       "    .dataframe tbody tr th {\n",
       "        vertical-align: top;\n",
       "    }\n",
       "\n",
       "    .dataframe thead th {\n",
       "        text-align: right;\n",
       "    }\n",
       "</style>\n",
       "<table border=\"1\" class=\"dataframe\">\n",
       "  <thead>\n",
       "    <tr style=\"text-align: right;\">\n",
       "      <th></th>\n",
       "      <th>Categoria</th>\n",
       "      <th>Titulo</th>\n",
       "      <th>Descrição</th>\n",
       "      <th>Data</th>\n",
       "      <th>Pagina</th>\n",
       "      <th>Target</th>\n",
       "    </tr>\n",
       "  </thead>\n",
       "  <tbody>\n",
       "    <tr>\n",
       "      <th>0</th>\n",
       "      <td>tecnologia</td>\n",
       "      <td>Eclipse lunar ‘quase total’ na próxima noite s...</td>\n",
       "      <td>A América do Norte e grande parte da América d...</td>\n",
       "      <td>18/11/2021 23:00</td>\n",
       "      <td>80</td>\n",
       "      <td>2</td>\n",
       "    </tr>\n",
       "    <tr>\n",
       "      <th>1</th>\n",
       "      <td>tecnologia</td>\n",
       "      <td>Pandemia vai acabar em 1 ano, diz CEO da farma...</td>\n",
       "      <td>O CEO da Moderna, Stéphane Bancel, declarou qu...</td>\n",
       "      <td>24/09/2021 12:06</td>\n",
       "      <td>99</td>\n",
       "      <td>0</td>\n",
       "    </tr>\n",
       "    <tr>\n",
       "      <th>2</th>\n",
       "      <td>tecnologia</td>\n",
       "      <td>Moderna acredita que sua dose de reforço funci...</td>\n",
       "      <td>A farmacêutica americana Moderna disse nesta s...</td>\n",
       "      <td>21/12/2021 03:35</td>\n",
       "      <td>68</td>\n",
       "      <td>0</td>\n",
       "    </tr>\n",
       "    <tr>\n",
       "      <th>3</th>\n",
       "      <td>tecnologia</td>\n",
       "      <td>Mais alto e por mais tempo: helicóptero Ingenu...</td>\n",
       "      <td>Ingenuity, o pequeno helicóptero da NASA, cons...</td>\n",
       "      <td>22/04/2021 15:01</td>\n",
       "      <td>177</td>\n",
       "      <td>1</td>\n",
       "    </tr>\n",
       "    <tr>\n",
       "      <th>4</th>\n",
       "      <td>tecnologia</td>\n",
       "      <td>Argentina pede que vacinas contra a covid-19 s...</td>\n",
       "      <td>O presidente da Argentina, Alberto Fernández, ...</td>\n",
       "      <td>28/01/2021 19:25</td>\n",
       "      <td>233</td>\n",
       "      <td>0</td>\n",
       "    </tr>\n",
       "  </tbody>\n",
       "</table>\n",
       "</div>"
      ],
      "text/plain": [
       "    Categoria                                             Titulo  \\\n",
       "0  tecnologia  Eclipse lunar ‘quase total’ na próxima noite s...   \n",
       "1  tecnologia  Pandemia vai acabar em 1 ano, diz CEO da farma...   \n",
       "2  tecnologia  Moderna acredita que sua dose de reforço funci...   \n",
       "3  tecnologia  Mais alto e por mais tempo: helicóptero Ingenu...   \n",
       "4  tecnologia  Argentina pede que vacinas contra a covid-19 s...   \n",
       "\n",
       "                                           Descrição              Data  \\\n",
       "0  A América do Norte e grande parte da América d...  18/11/2021 23:00   \n",
       "1  O CEO da Moderna, Stéphane Bancel, declarou qu...  24/09/2021 12:06   \n",
       "2  A farmacêutica americana Moderna disse nesta s...  21/12/2021 03:35   \n",
       "3  Ingenuity, o pequeno helicóptero da NASA, cons...  22/04/2021 15:01   \n",
       "4  O presidente da Argentina, Alberto Fernández, ...  28/01/2021 19:25   \n",
       "\n",
       "   Pagina  Target  \n",
       "0      80       2  \n",
       "1      99       0  \n",
       "2      68       0  \n",
       "3     177       1  \n",
       "4     233       0  "
      ]
     },
     "execution_count": 12,
     "metadata": {},
     "output_type": "execute_result"
    }
   ],
   "source": [
    "test = pd.read_excel(filename, sheet_name = 'Teste')\n",
    "test.head(5)"
   ]
  },
  {
   "cell_type": "markdown",
   "metadata": {},
   "source": [
    "___\n",
    "## Classificador automático\n"
   ]
  },
  {
   "cell_type": "markdown",
   "metadata": {},
   "source": [
    "Para o projeto, utilizamos uma base de dados referente ao site https://www.istoedinheiro.com.br/. \n",
    "A ideia do nosso classificador foi de diferenciar, associar e classificar 3 diferentes tipos de notícias, na seção de \"tecnologia\" do site.\n",
    "Sendo os fatores de classificação: 'Notícias relacionadas à tecnologias e saúde', 'Notícias relacionadas à avanços da tecnologia' e também notícias que diferem desses 2 temas, sendo essas classificadas como \"outras\".\n",
    "\n",
    "0 - Notícias relacionadas à saúde\n",
    "\n",
    "1 - Notícias relacionadas ao avanço de tecnologias\n",
    "\n",
    "2 - Notícias que não se relacionam à nenhum dos 2 (outras)"
   ]
  },
  {
   "cell_type": "markdown",
   "metadata": {},
   "source": [
    "___\n",
    "### Montando um Classificador Naive-Bayes\n",
    "\n",
    "Considerando apenas as mensagens da planilha Treinamento, ensine  seu classificador."
   ]
  },
  {
   "cell_type": "code",
   "execution_count": 13,
   "metadata": {},
   "outputs": [],
   "source": [
    "import re \n",
    "\n",
    "\n",
    "def cleanup(text):\n",
    "    \"\"\"\n",
    "        Função de limpeza muito simples que troca alguns sinais básicos por espaços\n",
    "    \"\"\"\n",
    "    #import string\n",
    "    punctuation = '[!-.:?;123456789%]'\n",
    "    pattern = re.compile(punctuation)\n",
    "    text_subbed = re.sub(pattern, '', text)\n",
    "    return text_subbed"
   ]
  },
  {
   "cell_type": "code",
   "execution_count": 14,
   "metadata": {},
   "outputs": [],
   "source": [
    "# Removendo as colunas que não serão utilizadas na análise, visto que ela é baseada no título das notícias\n",
    "train = train.drop(['Descrição', 'Data', 'Pagina', 'Categoria'], axis = 1)\n"
   ]
  },
  {
   "cell_type": "code",
   "execution_count": 15,
   "metadata": {},
   "outputs": [],
   "source": [
    "filtro_0 = train.Target == 0\n",
    "dados_target_0 = train.loc[filtro_0, 'Titulo'].reset_index(drop=True)\n",
    "\n",
    "filtro_1 = train.Target == 1\n",
    "dados_target_1 = train.loc[filtro_1, 'Titulo'].reset_index(drop=True)\n",
    "\n",
    "filtro_2 = train.Target == 2\n",
    "dados_target_2 = train.loc[filtro_2, 'Titulo'].reset_index(drop=True)\n"
   ]
  },
  {
   "cell_type": "code",
   "execution_count": 16,
   "metadata": {},
   "outputs": [],
   "source": [
    "# Cria as listas que possuem as classificações de cada categoria\n",
    "lista_dados_target_0 = []\n",
    "lista_dados_target_1 = []\n",
    "lista_dados_target_2 = []\n",
    "\n",
    "lista_noticias_limpas = []\n",
    "lista_noticias = []\n",
    "\n",
    "# For criando as listas limpas\n",
    "for cell in dados_target_0:\n",
    "    \n",
    "    clean_cell = cleanup(cell.lower())\n",
    "    clean_cell = clean_cell.strip()\n",
    "    lista_noticias_limpas += clean_cell\n",
    "    lista_dados_target_0 += clean_cell.split()\n",
    "    \n",
    "for cell in dados_target_1:\n",
    "    \n",
    "    clean_cell = cleanup(cell.lower())\n",
    "    clean_cell = clean_cell.strip()\n",
    "    lista_noticias_limpas += clean_cell\n",
    "    lista_dados_target_1 += clean_cell.split()\n",
    "    \n",
    "for cell in dados_target_2:\n",
    "    \n",
    "    clean_cell = cleanup(cell.lower())\n",
    "    clean_cell = clean_cell.strip()\n",
    "    lista_noticias_limpas += clean_cell\n",
    "    lista_dados_target_2 += clean_cell.split()"
   ]
  },
  {
   "cell_type": "code",
   "execution_count": 17,
   "metadata": {},
   "outputs": [],
   "source": [
    "# Conversão das listas para pd.Series\n",
    "target_0 = pd.Series(lista_dados_target_0)\n",
    "target_1 = pd.Series(lista_dados_target_1)\n",
    "target_2 = pd.Series(lista_dados_target_2)"
   ]
  },
  {
   "cell_type": "code",
   "execution_count": 18,
   "metadata": {},
   "outputs": [
    {
     "data": {
      "text/plain": [
       "de                   279\n",
       "da                    87\n",
       "a                     66\n",
       "do                    57\n",
       "em                    57\n",
       "                    ... \n",
       "conspiracionistas      1\n",
       "central                1\n",
       "condenado              1\n",
       "dois                   1\n",
       "comprometem            1\n",
       "Length: 1703, dtype: int64"
      ]
     },
     "execution_count": 18,
     "metadata": {},
     "output_type": "execute_result"
    }
   ],
   "source": [
    "# Contagem de ocorrências:\n",
    "tabela_0 = target_0.value_counts()\n",
    "tabela_1 = target_1.value_counts()\n",
    "tabela_2 = target_2.value_counts()\n",
    "\n",
    "# Juntando as notícias\n",
    "noticias_juntas = lista_dados_target_0 + lista_dados_target_1 + lista_dados_target_2\n",
    "\n",
    "# Criando tabela com as notícias juntas e aplicando o value_counts\n",
    "noticias_juntas_tabela = pd.Series(noticias_juntas)\n",
    "noticias_juntas_tabela = noticias_juntas_tabela.value_counts()\n",
    "noticias_juntas_tabela"
   ]
  },
  {
   "cell_type": "code",
   "execution_count": 19,
   "metadata": {},
   "outputs": [],
   "source": [
    "# Começando os cálculos das probabilidades (prior)\n",
    "\n",
    "prob_ser_0 = len(target_0)/len(noticias_juntas_tabela)\n",
    "\n",
    "prob_ser_1 = len(target_1)/len(noticias_juntas_tabela)\n",
    "\n",
    "prob_ser_2 = len(target_2)/len(noticias_juntas_tabela)"
   ]
  },
  {
   "cell_type": "code",
   "execution_count": 27,
   "metadata": {},
   "outputs": [],
   "source": [
    "classificacao = []\n",
    "for noticia in lista_noticias:\n",
    "    prob_0 = 1\n",
    "    prob_1 = 1\n",
    "    prob_2 = 1\n",
    "\n",
    "    # No for: probabilidade das palavras, descobre todas as probabilidades, aplica La Place, descobre qual a classificacao\n",
    "    for palavra in noticia:\n",
    "        \n",
    "        #LA PLACE\n",
    "        if palavra not in tabela_0:\n",
    "            prob_0 *= 1/(len(target_0) + len(noticias_juntas_tabela)) \n",
    "        elif palavra in tabela_0:\n",
    "            prob_0 *= (tabela_0[palavra] + 1)/(len(target_0) + len(noticias_juntas_tabela))\n",
    "        \n",
    "        \n",
    "        if palavra not in tabela_1:\n",
    "            prob_1 *= 1/(len(target_1) + len(noticias_juntas_tabela)) \n",
    "        elif palavra in tabela_1:\n",
    "            prob_1 *= (tabela_1[palavra] + 1)/(len(target_1) + len(noticias_juntas_tabela))\n",
    "        \n",
    "        \n",
    "        if palavra not in tabela_2:\n",
    "            prob_2 *= 1/(len(target_2) + len(noticias_juntas_tabela)) \n",
    "        elif palavra in tabela_2:\n",
    "            prob_2 *= (tabela_2[palavra] + 1)/(len(target_2) + len(noticias_juntas_tabela))\n",
    "        \n",
    "    \n",
    "    # Cálculo das probabilidades\n",
    "    prob_noticia_dado_0 = prob_0 * prob_ser_0\n",
    "    prob_noticia_dado_1 = prob_1 * prob_ser_1\n",
    "    prob_noticia_dado_2 = prob_2 * prob_ser_2\n",
    "    \n",
    "\n",
    "    \n",
    "    #COMPARAÇÃO ENTRE OS RESULTADOS DE LA PLACE PARA CADA CATEGORIA\n",
    "    if prob_noticia_dado_0 > prob_noticia_dado_1 and prob_noticia_dado_0 > prob_noticia_dado_2:\n",
    "        classificacao.append(0)\n",
    "            \n",
    "    elif prob_noticia_dado_1 > prob_noticia_dado_0 and prob_noticia_dado_1 > prob_noticia_dado_2:\n",
    "        #print(prob_1)\n",
    "        classificacao.append(1)\n",
    "            \n",
    "    elif prob_noticia_dado_2 > prob_noticia_dado_0 and  prob_noticia_dado_2 > prob_noticia_dado_1:\n",
    "        #print(prob_2)\n",
    "        classificacao.append(2)"
   ]
  },
  {
   "cell_type": "code",
   "execution_count": 28,
   "metadata": {},
   "outputs": [
    {
     "data": {
      "text/plain": [
       "[1, 1, 1, 1, 1, 1]"
      ]
     },
     "execution_count": 28,
     "metadata": {},
     "output_type": "execute_result"
    }
   ],
   "source": [
    "classificacao"
   ]
  },
  {
   "cell_type": "markdown",
   "metadata": {},
   "source": [
    "___\n",
    "### Verificando a performance do Classificador\n",
    "\n",
    "Agora você deve testar o seu classificador com a base de Testes."
   ]
  },
  {
   "cell_type": "code",
   "execution_count": 29,
   "metadata": {},
   "outputs": [],
   "source": [
    "# Cria a lista a partir da planilha \"Teste\"\n",
    "for noticia in test:\n",
    "    clean_cell = cleanup(noticia.lower())\n",
    "    lista_noticias.append(clean_cell.split())"
   ]
  },
  {
   "cell_type": "code",
   "execution_count": 30,
   "metadata": {},
   "outputs": [
    {
     "data": {
      "text/html": [
       "<div>\n",
       "<style scoped>\n",
       "    .dataframe tbody tr th:only-of-type {\n",
       "        vertical-align: middle;\n",
       "    }\n",
       "\n",
       "    .dataframe tbody tr th {\n",
       "        vertical-align: top;\n",
       "    }\n",
       "\n",
       "    .dataframe thead th {\n",
       "        text-align: right;\n",
       "    }\n",
       "</style>\n",
       "<table border=\"1\" class=\"dataframe\">\n",
       "  <thead>\n",
       "    <tr style=\"text-align: right;\">\n",
       "      <th></th>\n",
       "      <th>Categoria</th>\n",
       "      <th>Titulo</th>\n",
       "      <th>Descrição</th>\n",
       "      <th>Data</th>\n",
       "      <th>Pagina</th>\n",
       "      <th>Target</th>\n",
       "      <th>Classificação Final</th>\n",
       "    </tr>\n",
       "  </thead>\n",
       "  <tbody>\n",
       "    <tr>\n",
       "      <th>394</th>\n",
       "      <td>tecnologia</td>\n",
       "      <td>Sony é processada em £ 5 bilhões por abuso de ...</td>\n",
       "      <td>A Sony, gigante empresa de eletrônicos e jogos...</td>\n",
       "      <td>23/08/2022 08:50</td>\n",
       "      <td>5</td>\n",
       "      <td>2</td>\n",
       "      <td>NaN</td>\n",
       "    </tr>\n",
       "    <tr>\n",
       "      <th>395</th>\n",
       "      <td>tecnologia</td>\n",
       "      <td>Huawei lança Watch GT 2 Pro no Brasil; bateria...</td>\n",
       "      <td>Após o trazer os modelos de smartwatches GT2e ...</td>\n",
       "      <td>29/01/2021 16:43</td>\n",
       "      <td>232</td>\n",
       "      <td>1</td>\n",
       "      <td>NaN</td>\n",
       "    </tr>\n",
       "    <tr>\n",
       "      <th>396</th>\n",
       "      <td>tecnologia</td>\n",
       "      <td>J&amp;J pede que regulador americano autorize vaci...</td>\n",
       "      <td>O laboratório Johnson &amp; Johnson (J&amp;J) solicito...</td>\n",
       "      <td>05/10/2021 16:37</td>\n",
       "      <td>95</td>\n",
       "      <td>0</td>\n",
       "      <td>NaN</td>\n",
       "    </tr>\n",
       "    <tr>\n",
       "      <th>397</th>\n",
       "      <td>tecnologia</td>\n",
       "      <td>Israel confirma primeiro caso de varíola do ma...</td>\n",
       "      <td>Israel registrou neste sábado (21) o primeiro ...</td>\n",
       "      <td>21/05/2022 15:05</td>\n",
       "      <td>26</td>\n",
       "      <td>0</td>\n",
       "      <td>NaN</td>\n",
       "    </tr>\n",
       "    <tr>\n",
       "      <th>398</th>\n",
       "      <td>tecnologia</td>\n",
       "      <td>Pesquisadores encontram novas alterações em li...</td>\n",
       "      <td>Pesquisadores da Fundação Oswaldo Cruz (Fiocru...</td>\n",
       "      <td>23/03/2021 14:33</td>\n",
       "      <td>196</td>\n",
       "      <td>0</td>\n",
       "      <td>NaN</td>\n",
       "    </tr>\n",
       "  </tbody>\n",
       "</table>\n",
       "</div>"
      ],
      "text/plain": [
       "      Categoria                                             Titulo  \\\n",
       "394  tecnologia  Sony é processada em £ 5 bilhões por abuso de ...   \n",
       "395  tecnologia  Huawei lança Watch GT 2 Pro no Brasil; bateria...   \n",
       "396  tecnologia  J&J pede que regulador americano autorize vaci...   \n",
       "397  tecnologia  Israel confirma primeiro caso de varíola do ma...   \n",
       "398  tecnologia  Pesquisadores encontram novas alterações em li...   \n",
       "\n",
       "                                             Descrição              Data  \\\n",
       "394  A Sony, gigante empresa de eletrônicos e jogos...  23/08/2022 08:50   \n",
       "395  Após o trazer os modelos de smartwatches GT2e ...  29/01/2021 16:43   \n",
       "396  O laboratório Johnson & Johnson (J&J) solicito...  05/10/2021 16:37   \n",
       "397  Israel registrou neste sábado (21) o primeiro ...  21/05/2022 15:05   \n",
       "398  Pesquisadores da Fundação Oswaldo Cruz (Fiocru...  23/03/2021 14:33   \n",
       "\n",
       "     Pagina  Target  Classificação Final  \n",
       "394       5       2                  NaN  \n",
       "395     232       1                  NaN  \n",
       "396      95       0                  NaN  \n",
       "397      26       0                  NaN  \n",
       "398     196       0                  NaN  "
      ]
     },
     "execution_count": 30,
     "metadata": {},
     "output_type": "execute_result"
    }
   ],
   "source": [
    "# Comparando o resultado com a classificação feita manualmente\n",
    "\n",
    "classificacao_final_serie = pd.Series(classificacao)\n",
    "test['Classificação Final'] = classificacao_final_serie\n",
    "test.tail(5)\n"
   ]
  },
  {
   "cell_type": "code",
   "execution_count": 31,
   "metadata": {},
   "outputs": [
    {
     "data": {
      "text/html": [
       "<div>\n",
       "<style scoped>\n",
       "    .dataframe tbody tr th:only-of-type {\n",
       "        vertical-align: middle;\n",
       "    }\n",
       "\n",
       "    .dataframe tbody tr th {\n",
       "        vertical-align: top;\n",
       "    }\n",
       "\n",
       "    .dataframe thead th {\n",
       "        text-align: right;\n",
       "    }\n",
       "</style>\n",
       "<table border=\"1\" class=\"dataframe\">\n",
       "  <thead>\n",
       "    <tr style=\"text-align: right;\">\n",
       "      <th>Classificação Final</th>\n",
       "      <th>1.0</th>\n",
       "      <th>All</th>\n",
       "    </tr>\n",
       "    <tr>\n",
       "      <th>Target</th>\n",
       "      <th></th>\n",
       "      <th></th>\n",
       "    </tr>\n",
       "  </thead>\n",
       "  <tbody>\n",
       "    <tr>\n",
       "      <th>0</th>\n",
       "      <td>3</td>\n",
       "      <td>3</td>\n",
       "    </tr>\n",
       "    <tr>\n",
       "      <th>1</th>\n",
       "      <td>1</td>\n",
       "      <td>1</td>\n",
       "    </tr>\n",
       "    <tr>\n",
       "      <th>2</th>\n",
       "      <td>2</td>\n",
       "      <td>2</td>\n",
       "    </tr>\n",
       "    <tr>\n",
       "      <th>All</th>\n",
       "      <td>6</td>\n",
       "      <td>6</td>\n",
       "    </tr>\n",
       "  </tbody>\n",
       "</table>\n",
       "</div>"
      ],
      "text/plain": [
       "Classificação Final  1.0  All\n",
       "Target                       \n",
       "0                      3    3\n",
       "1                      1    1\n",
       "2                      2    2\n",
       "All                    6    6"
      ]
     },
     "execution_count": 31,
     "metadata": {},
     "output_type": "execute_result"
    }
   ],
   "source": [
    "# Tabela cruzada absoluta\n",
    "\n",
    "pd.crosstab(test['Target'], test['Classificação Final'], margins=True) "
   ]
  },
  {
   "cell_type": "code",
   "execution_count": 33,
   "metadata": {},
   "outputs": [
    {
     "data": {
      "text/html": [
       "<div>\n",
       "<style scoped>\n",
       "    .dataframe tbody tr th:only-of-type {\n",
       "        vertical-align: middle;\n",
       "    }\n",
       "\n",
       "    .dataframe tbody tr th {\n",
       "        vertical-align: top;\n",
       "    }\n",
       "\n",
       "    .dataframe thead th {\n",
       "        text-align: right;\n",
       "    }\n",
       "</style>\n",
       "<table border=\"1\" class=\"dataframe\">\n",
       "  <thead>\n",
       "    <tr style=\"text-align: right;\">\n",
       "      <th>Classificação Final</th>\n",
       "      <th>1.0</th>\n",
       "      <th>All</th>\n",
       "    </tr>\n",
       "    <tr>\n",
       "      <th>Target</th>\n",
       "      <th></th>\n",
       "      <th></th>\n",
       "    </tr>\n",
       "  </thead>\n",
       "  <tbody>\n",
       "    <tr>\n",
       "      <th>0</th>\n",
       "      <td>300</td>\n",
       "      <td>300</td>\n",
       "    </tr>\n",
       "    <tr>\n",
       "      <th>1</th>\n",
       "      <td>100</td>\n",
       "      <td>100</td>\n",
       "    </tr>\n",
       "    <tr>\n",
       "      <th>2</th>\n",
       "      <td>200</td>\n",
       "      <td>200</td>\n",
       "    </tr>\n",
       "    <tr>\n",
       "      <th>All</th>\n",
       "      <td>600</td>\n",
       "      <td>600</td>\n",
       "    </tr>\n",
       "  </tbody>\n",
       "</table>\n",
       "</div>"
      ],
      "text/plain": [
       "Classificação Final  1.0  All\n",
       "Target                       \n",
       "0                    300  300\n",
       "1                    100  100\n",
       "2                    200  200\n",
       "All                  600  600"
      ]
     },
     "execution_count": 33,
     "metadata": {},
     "output_type": "execute_result"
    }
   ],
   "source": [
    "# Tabela cruzada relativa\n",
    "\n",
    "pd.crosstab(test['Target'], test['Classificação Final'], margins=True) .round(4)*100"
   ]
  },
  {
   "cell_type": "markdown",
   "metadata": {},
   "source": [
    "___\n",
    "### Qualidade do Classificador a partir de novas separações das notícias entre Treinamento e Teste\n",
    "\n",
    "Caso for fazer esse item do Projeto"
   ]
  },
  {
   "cell_type": "markdown",
   "metadata": {},
   "source": [
    "___\n",
    "## Aperfeiçoamento:\n",
    "\n",
    "Trabalhos que conseguirem pelo menos conceito B vão evoluir em conceito dependendo da quantidade de itens avançados:\n",
    "\n",
    "* IMPLEMENTOU outras limpezas e transformações que não afetem a qualidade da informação contida nas notícias. Ex: stemming, lemmatization, stopwords\n",
    "* CONSIDEROU mais de duas caterogias na variável Target e INCREMENTOU a quantidade de notícias, mantendo pelo menos 250 notícias por caterogia (OBRIGATÓRIO PARA TRIOS, sem contar como item avançado)\n",
    "* Para Target com duas categorias: CRIOU pelo menos quatro categorias intermediárias de relevância baseadas na probabilidade: ex.: muito relevante, relevante, neutro, irrelevante, muito irrelevante\n",
    "* EXPLICOU porquê não pode usar o próprio classificador para gerar mais amostras de treinamento\n",
    "* PROPÔS diferentes cenários para Naïve Bayes fora do contexto do projeto (pelo menos dois cenários, exceto aqueles já apresentados em sala pelos professores: por exemplo, filtro de spam)\n",
    "* SUGERIU e EXPLICOU melhorias reais com indicações concretas de como implementar (indicar como fazer e indicar material de pesquisa)\n",
    "* FEZ o item Qualidade do Classificador a partir de novas separações das Notícias entre Treinamento e Teste descrito no enunciado do projeto (OBRIGATÓRIO para conceitos A ou A+)"
   ]
  },
  {
   "cell_type": "markdown",
   "metadata": {},
   "source": [
    "___\n",
    "## Referências"
   ]
  },
  {
   "cell_type": "markdown",
   "metadata": {},
   "source": [
    "[Naive Bayes and Text Classification](https://arxiv.org/pdf/1410.5329.pdf)  **Mais completo**\n",
    "\n",
    "[A practical explanation of a Naive Bayes Classifier](https://monkeylearn.com/blog/practical-explanation-naive-bayes-classifier/) **Mais simples**"
   ]
  },
  {
   "cell_type": "code",
   "execution_count": null,
   "metadata": {},
   "outputs": [],
   "source": []
  }
 ],
 "metadata": {
  "kernelspec": {
   "display_name": "Python 3",
   "language": "python",
   "name": "python3"
  },
  "language_info": {
   "codemirror_mode": {
    "name": "ipython",
    "version": 3
   },
   "file_extension": ".py",
   "mimetype": "text/x-python",
   "name": "python",
   "nbconvert_exporter": "python",
   "pygments_lexer": "ipython3",
   "version": "3.8.5"
  },
  "vscode": {
   "interpreter": {
    "hash": "dae63f221ba4f0e1723b619552b8341101d196e2152a158536dcefc40d42fb8a"
   }
  }
 },
 "nbformat": 4,
 "nbformat_minor": 4
}
